{
  "nbformat": 4,
  "nbformat_minor": 0,
  "metadata": {
    "colab": {
      "name": "1. Basic Concepts.ipynb",
      "provenance": []
    },
    "kernelspec": {
      "name": "python3",
      "display_name": "Python 3"
    },
    "accelerator": "GPU",
    "language_info": {
      "name": "python",
      "version": "3.6.7",
      "mimetype": "text/x-python",
      "codemirror_mode": {
        "name": "ipython",
        "version": 3
      },
      "pygments_lexer": "ipython3",
      "nbconvert_exporter": "python",
      "file_extension": ".py"
    },
    "nteract": {
      "version": "0.22.0"
    }
  },
  "cells": [
    {
      "cell_type": "code",
      "metadata": {
        "id": "c10dhZtFIf_j",
        "colab_type": "code",
        "execution": {
          "iopub.status.busy": "2020-09-16T12:06:52.753Z",
          "iopub.execute_input": "2020-09-16T12:06:52.762Z",
          "shell.execute_reply": "2020-09-16T12:06:57.181Z",
          "iopub.status.idle": "2020-09-16T12:06:57.190Z"
        },
        "colab": {}
      },
      "source": [
        "import warnings\n",
        "warnings.filterwarnings('ignore')\n",
        "\n",
        "import numpy as np\n",
        "import seaborn as sns\n",
        "import matplotlib.pyplot as plt\n",
        "from sklearn.datasets.samples_generator import make_regression \n",
        "from scipy import stats \n",
        "\n",
        "%matplotlib inline"
      ],
      "execution_count": 1,
      "outputs": []
    },
    {
      "cell_type": "markdown",
      "metadata": {
        "id": "_ElZmwf0If_s",
        "colab_type": "text"
      },
      "source": [
        "# 1. Gradient descend: 1-D\n",
        "\n",
        "This is the simplest implementation of the derivative:"
      ]
    },
    {
      "cell_type": "code",
      "metadata": {
        "id": "3bP9oaJgIf_s",
        "colab_type": "code",
        "execution": {
          "iopub.status.busy": "2020-09-16T12:07:04.284Z",
          "iopub.execute_input": "2020-09-16T12:07:04.293Z",
          "iopub.status.idle": "2020-09-16T12:07:04.313Z",
          "shell.execute_reply": "2020-09-16T12:07:04.324Z"
        },
        "colab": {},
        "outputId": "5dbd7d4f-d178-4d8a-a7a0-3409cb08375d"
      },
      "source": [
        "# numerical derivative at a point x\n",
        "\n",
        "def f(x):\n",
        "    return x**2\n",
        "\n",
        "def fin_dif(x, \n",
        "            f, \n",
        "            h = 0.00001):\n",
        "    '''\n",
        "    This method returns the derivative of f at x\n",
        "    by using the finite difference method\n",
        "    '''\n",
        "    return (f(x+h) - f(x))/h\n",
        "\n",
        "x = 2.0\n",
        "print(\"{:2.4f}\".format(fin_dif(x,f)))"
      ],
      "execution_count": null,
      "outputs": [
        {
          "output_type": "stream",
          "text": [
            "4.0000\n"
          ],
          "name": "stdout"
        }
      ]
    },
    {
      "cell_type": "markdown",
      "metadata": {
        "id": "3d_y8uEaBr-g",
        "colab_type": "text"
      },
      "source": [
        "We can apply this definition to find the minimum of a function. Alternatively, if we know the analytical derivative of a function, we can also use it.\n",
        "\n",
        "In the next example, we apply the analytical derivative but we do not get the minimum:"
      ]
    },
    {
      "cell_type": "code",
      "metadata": {
        "id": "uMnzvWRnIgAO",
        "colab_type": "code",
        "execution": {
          "iopub.status.busy": "2020-09-16T12:08:14.840Z",
          "iopub.execute_input": "2020-09-16T12:08:14.847Z",
          "iopub.status.idle": "2020-09-16T12:08:14.965Z",
          "shell.execute_reply": "2020-09-16T12:08:15.247Z"
        },
        "colab": {},
        "outputId": "cc9f125b-7a90-4c55-d52a-e830339ea627"
      },
      "source": [
        "x = np.linspace(-10,20,100)\n",
        "y = x**2 - 6*x + 5\n",
        "start = 15\n",
        "\n",
        "fig, ax = plt.subplots(1, 1)\n",
        "fig.set_facecolor('#EAEAF2')\n",
        "plt.plot(x,y, 'r-')\n",
        "plt.plot([start],[start**2 - 6*start + 5],'o')\n",
        "ax.text(start,\n",
        "        start**2 - 6*start + 35,\n",
        "        'Start',\n",
        "        ha='center',\n",
        "        color=sns.xkcd_rgb['blue'],\n",
        "       )\n",
        "\n",
        "d = 2 * start - 6\n",
        "end = start - d\n",
        "\n",
        "plt.plot([end],[end**2 - 6*end + 5],'o')\n",
        "plt.ylim([-10,250])\n",
        "plt.gcf().set_size_inches((10,3))\n",
        "plt.grid(True)\n",
        "ax.text(end,\n",
        "        start**2 - 6*start + 35,\n",
        "        'End',\n",
        "        ha='center',\n",
        "        color=sns.xkcd_rgb['green'],\n",
        "       )\n",
        "plt.show"
      ],
      "execution_count": null,
      "outputs": [
        {
          "output_type": "execute_result",
          "data": {
            "text/plain": [
              "<function matplotlib.pyplot.show>"
            ]
          },
          "metadata": {
            "tags": []
          },
          "execution_count": 3
        },
        {
          "output_type": "display_data",
          "data": {
            "text/plain": [
              "<Figure size 720x216 with 1 Axes>"
            ],
            "image/png": "[encoded data removed]"
          },
          "metadata": {
            "tags": []
          }
        }
      ]
    },
    {
      "cell_type": "markdown",
      "metadata": {
        "id": "ZYjGCRfECgDb",
        "colab_type": "text"
      },
      "source": [
        "Do you know why?\n",
        "\n",
        "Complete the follwing code to find the minimum of a function.\n",
        "\n",
        "Hints: \n",
        "+ You have to define a point where to start the search. \n",
        "+ You have to define a step size to move. "
      ]
    },
    {
      "cell_type": "code",
      "metadata": {
        "id": "Gj5ZFZJIIgAS",
        "colab_type": "code",
        "execution": {
          "iopub.status.busy": "2020-09-16T12:08:22.473Z",
          "iopub.execute_input": "2020-09-16T12:08:22.480Z",
          "iopub.status.idle": "2020-09-16T12:08:22.494Z",
          "shell.execute_reply": "2020-09-16T12:08:22.500Z"
        },
        "colab": {}
      },
      "source": [
        "old_min = 0\n",
        "temp_min = 15\n",
        "step_size = 0.01\n",
        "precision = 0.0001\n",
        "\n",
        "def f(x):\n",
        "    return x**2 - 6*x + 5\n",
        "    \n",
        "def f_derivative(x):\n",
        "    import math\n",
        "    return 2*x -6\n",
        "\n",
        "mins = []\n",
        "cost = []\n",
        "\n",
        "while abs(temp_min - old_min) > precision:\n",
        "    # your code here\n",
        "\n",
        "# rounding the result to 2 digits because of the step size\n",
        "print(\"Local minimum occurs at {:3.6f}.\".format(round(temp_min,2)))"
      ],
      "execution_count": null,
      "outputs": []
    },
    {
      "cell_type": "markdown",
      "metadata": {
        "id": "1C1Vsy0aDA7e",
        "colab_type": "text"
      },
      "source": [
        "If it works, you can visualize the evolution of the value of the function:"
      ]
    },
    {
      "cell_type": "code",
      "metadata": {
        "id": "G7B2RQEVIgAZ",
        "colab_type": "code",
        "execution": {
          "iopub.status.busy": "2020-09-16T12:08:32.911Z",
          "iopub.execute_input": "2020-09-16T12:08:32.917Z",
          "iopub.status.idle": "2020-09-16T12:08:33.025Z",
          "shell.execute_reply": "2020-09-16T12:08:33.046Z"
        },
        "colab": {},
        "outputId": "86823957-7775-4b0b-9be1-089cef9288f4"
      },
      "source": [
        "x = np.linspace(-10,20,100)\n",
        "y = x**2 - 6*x + 5\n",
        "\n",
        "x, y = (zip(*enumerate(cost)))\n",
        "\n",
        "fig, ax = plt.subplots(1, 1)\n",
        "fig.set_facecolor('#EAEAF2')\n",
        "plt.plot(x,y, 'r-', alpha=0.7)\n",
        "plt.ylim([-10,150])\n",
        "plt.gcf().set_size_inches((10,3))\n",
        "plt.grid(True)\n",
        "plt.show"
      ],
      "execution_count": null,
      "outputs": [
        {
          "output_type": "execute_result",
          "data": {
            "text/plain": [
              "<function matplotlib.pyplot.show>"
            ]
          },
          "metadata": {
            "tags": []
          },
          "execution_count": 5
        },
        {
          "output_type": "display_data",
          "data": {
            "text/plain": [
              "<Figure size 720x216 with 1 Axes>"
            ],
            "image/png": "[encoded data removed]"
          },
          "metadata": {
            "tags": []
          }
        }
      ]
    },
    {
      "cell_type": "markdown",
      "metadata": {
        "id": "Ntkp6D35DPpO",
        "colab_type": "text"
      },
      "source": [
        "You can also visualize the function points you have explored:"
      ]
    },
    {
      "cell_type": "code",
      "metadata": {
        "id": "lzeVtZ0uIgAe",
        "colab_type": "code",
        "execution": {
          "iopub.status.busy": "2020-09-16T12:08:36.119Z",
          "iopub.execute_input": "2020-09-16T12:08:36.126Z",
          "iopub.status.idle": "2020-09-16T12:08:36.241Z",
          "shell.execute_reply": "2020-09-16T12:08:36.261Z"
        },
        "colab": {},
        "outputId": "0512661d-a331-4d6b-cf88-ab38df591209"
      },
      "source": [
        "x = np.linspace(-10,20,100)\n",
        "y = x**2 - 6*x + 5\n",
        "\n",
        "fig, ax = plt.subplots(1, 1)\n",
        "fig.set_facecolor('#EAEAF2')\n",
        "plt.plot(x,y, 'r-')\n",
        "plt.ylim([-10,250])\n",
        "plt.gcf().set_size_inches((10,3))\n",
        "plt.grid(True)\n",
        "plt.plot(mins,cost,'o', alpha=0.3)\n",
        "ax.text(start,\n",
        "        start**2 - 6*start + 25,\n",
        "        'Start',\n",
        "        ha='center',\n",
        "        color=sns.xkcd_rgb['blue'],\n",
        "       )\n",
        "ax.text(mins[-1],\n",
        "        cost[-1]+20,\n",
        "        'End (%s steps)' % len(mins),\n",
        "        ha='center',\n",
        "        color=sns.xkcd_rgb['blue'],\n",
        "       )\n",
        "plt.show"
      ],
      "execution_count": null,
      "outputs": [
        {
          "output_type": "execute_result",
          "data": {
            "text/plain": [
              "<function matplotlib.pyplot.show>"
            ]
          },
          "metadata": {
            "tags": []
          },
          "execution_count": 6
        },
        {
          "output_type": "display_data",
          "data": {
            "text/plain": [
              "<Figure size 720x216 with 1 Axes>"
            ],
            "image/png": "[encoded data removed]"
          },
          "metadata": {
            "tags": []
          }
        }
      ]
    },
    {
      "cell_type": "markdown",
      "metadata": {
        "id": "P5M-fnEyIgAj",
        "colab_type": "text"
      },
      "source": [
        "## 2. From derivatives to gradient: $n$-dimensional function minimization.\n"
      ]
    },
    {
      "cell_type": "code",
      "metadata": {
        "id": "-NOS5N-AIgAl",
        "colab_type": "code",
        "execution": {
          "iopub.status.busy": "2020-09-16T12:09:26.323Z",
          "iopub.execute_input": "2020-09-16T12:09:26.329Z",
          "iopub.status.idle": "2020-09-16T12:09:26.347Z",
          "shell.execute_reply": "2020-09-16T12:09:26.366Z"
        },
        "colab": {},
        "outputId": "1ef86aa0-7163-4f10-d0e6-5a68a07e5ab2"
      },
      "source": [
        "def f(x):\n",
        "    return sum(x_i**2 for x_i in x)\n",
        "\n",
        "def fin_dif_partial_centered(x, \n",
        "                             f, \n",
        "                             i, \n",
        "                             h=1e-6):\n",
        "    '''\n",
        "    This method returns the partial derivative of the i-th component of f at x\n",
        "    by using the centered finite difference method\n",
        "    '''\n",
        "    w1 = [x_j + (h if j==i else 0) for j, x_j in enumerate(x)]\n",
        "    w2 = [x_j - (h if j==i else 0) for j, x_j in enumerate(x)]\n",
        "    return (f(w1) - f(w2))/(2*h)\n",
        "\n",
        "def fin_dif_partial_old(x, \n",
        "                        f, \n",
        "                        i, \n",
        "                        h=1e-6):\n",
        "    '''\n",
        "    This method returns the partial derivative of the i-th component of f at x\n",
        "    by using the (non-centered) finite difference method\n",
        "    '''\n",
        "    w1 = [x_j + (h if j==i else 0) for j, x_j in enumerate(x)]\n",
        "    return (f(w1) - f(x))/h\n",
        "\n",
        "def gradient_centered(x, \n",
        "                      f, \n",
        "                      h=1e-6):\n",
        "    '''\n",
        "    This method returns the gradient vector of f at x\n",
        "    by using the centered finite difference method\n",
        "    '''\n",
        "    return[round(fin_dif_partial_centered(x,f,i,h), 10) for i,_ in enumerate(x)]\n",
        "\n",
        "def gradient_old(x, \n",
        "                 f, \n",
        "                 h=1e-6):\n",
        "    '''\n",
        "    This method returns the the gradient vector of f at x\n",
        "    by using the (non-centered)ç finite difference method\n",
        "    '''\n",
        "    return[round(fin_dif_partial_old(x,f,i,h), 10) for i,_ in enumerate(x)]\n",
        "\n",
        "x = [1.0,1.0,1.0]\n",
        "\n",
        "print('{:.6f}'.format(f(x)), gradient_centered(x,f))\n",
        "print('{:.6f}'.format(f(x)), gradient_old(x,f))"
      ],
      "execution_count": null,
      "outputs": [
        {
          "output_type": "stream",
          "text": [
            "3.000000 [2.0000000001, 2.0000000001, 2.0000000001]\n",
            "3.000000 [2.0000009999, 2.0000009999, 2.0000009999]\n"
          ],
          "name": "stdout"
        }
      ]
    },
    {
      "cell_type": "markdown",
      "metadata": {
        "id": "OJnaRjh7IgAr",
        "colab_type": "text"
      },
      "source": [
        "The function we have evaluated, $f({\\mathbf x}) = x_1^2+x_2^2+x_3^2$, is $3$ at $(1,1,1)$ and the gradient vector at this point is $(2,2,2)$. \n",
        "\n",
        "Then, we can follow this steps to maximize (or minimize) the function:\n",
        "\n",
        "+ Start from a random $\\mathbf{x}$ vector.\n",
        "+ Compute the gradient vector.\n",
        "+ Walk a small step in the opposite direction of the gradient vector."
      ]
    },
    {
      "cell_type": "markdown",
      "metadata": {
        "id": "-6ntshMuIgAt",
        "colab_type": "text"
      },
      "source": [
        "> It is important to be aware that this gradient computation is very expensive: if $\\mathbf{x}$ has dimension $n$, we have to evaluate $f$ at $2*n$ points.\n",
        "\n",
        "\n",
        "### How to use the gradient.\n",
        "\n",
        "$f(x) = \\sum_i x_i^2$, takes its mimimum value when all $x$ are 0. \n",
        "\n",
        "Let's check it for $n=3$: "
      ]
    },
    {
      "cell_type": "code",
      "metadata": {
        "id": "3apmZdxCIgAu",
        "colab_type": "code",
        "colab": {}
      },
      "source": [
        "def euc_dist(v1,v2):\n",
        "    import numpy as np\n",
        "    import math\n",
        "    v = np.array(v1)-np.array(v2)\n",
        "    return math.sqrt(sum(v_i ** 2 for v_i in v))"
      ],
      "execution_count": null,
      "outputs": []
    },
    {
      "cell_type": "markdown",
      "metadata": {
        "id": "w3Z_DkqcIgAw",
        "colab_type": "text"
      },
      "source": [
        "Let's start by choosing a random vector and then walking a step in the opposite direction of the gradient vector. We will stop when the difference between the new solution and the old solution is less than a tolerance value."
      ]
    },
    {
      "cell_type": "code",
      "metadata": {
        "id": "zoCNttw4IgAw",
        "colab_type": "code",
        "colab": {}
      },
      "source": [
        "# choosing a random vector\n",
        "\n",
        "import random\n",
        "import numpy as np\n",
        "\n",
        "x = [random.randint(-10,10) for i in range(3)]\n",
        "x"
      ],
      "execution_count": null,
      "outputs": []
    },
    {
      "cell_type": "code",
      "metadata": {
        "id": "zH6CunsyIgAz",
        "colab_type": "code",
        "colab": {}
      },
      "source": [
        "def step(x,\n",
        "         grad,\n",
        "         alpha):\n",
        "    '''\n",
        "    This function makes a step in the opposite direction of the gradient vector \n",
        "    in order to compute a new value for the target function.\n",
        "    '''\n",
        "    return [x_i - alpha * grad_i for x_i, grad_i in zip(x,grad)]\n",
        "\n",
        "tol = 1e-15\n",
        "alpha = 0.01\n",
        "while True:\n",
        "    grad = gradient_centered(x,f)\n",
        "    next_x = step(x,grad,alpha)\n",
        "    if euc_dist(next_x,x) < tol:\n",
        "        break\n",
        "    x = next_x\n",
        "print([round(i,10) for i in x])"
      ],
      "execution_count": null,
      "outputs": []
    },
    {
      "cell_type": "markdown",
      "metadata": {
        "id": "fDNwLYGxIgA2",
        "colab_type": "text"
      },
      "source": [
        "### Alpha\n",
        "\n",
        "The step size, **alpha**, is a slippy concept: if it is too small we will slowly converge to the solution, if it is too large we can diverge from the solution. \n",
        "\n",
        "There are several policies to follow when selecting the step size:\n",
        "\n",
        "+ Constant size steps. In this case, the size step determines the precision of the solution.\n",
        "+ Decreasing step sizes.\n",
        "+ At each step, select the optimal step.\n",
        "\n",
        "The last policy is good, but too expensive. In this case we would consider a fixed set of values:"
      ]
    },
    {
      "cell_type": "code",
      "metadata": {
        "id": "dEIgk7tgIgA4",
        "colab_type": "code",
        "colab": {}
      },
      "source": [
        "step_size = [100, 10, 1, 0.1, 0.01, 0.001, 0.0001, 0.00001]"
      ],
      "execution_count": null,
      "outputs": []
    },
    {
      "cell_type": "markdown",
      "metadata": {
        "id": "n63eTMIrIgA5",
        "colab_type": "text"
      },
      "source": [
        "## Learning from data\n",
        "\n",
        "In general, we have:\n",
        "\n",
        "+ A dataset $(\\mathbf{x},y)$ of $n$ examples. \n",
        "+ A target function $f_\\mathbf{w}$, that we want to minimize, representing the **discrepancy between our data and the model** we want to fit. The model is represented by a set of parameters $\\mathbf{w}$. \n",
        "+ The gradient of the target function, $g_f$. \n",
        "\n",
        "\n",
        "In the most common case $f$ represents the errors from a data representation model $M$. To fit the model is to find the optimal parameters $\\mathbf{w}$ that minimize the following expression:\n",
        "\n",
        "$$ f_\\mathbf{w} = \\frac{1}{n} \\sum_{i} (y_i - M(\\mathbf{x}_i,\\mathbf{w}))^2 $$\n",
        "\n",
        "For example, $(\\mathbf{x},y)$ can represent:\n",
        "\n",
        "+ $\\mathbf{x}$: the behavior of a \"Candy Crush\" player; $y$: monthly payments. \n",
        "+ $\\mathbf{x}$: sensor data about your car engine; $y$: probability of engine error.\n",
        "+ $\\mathbf{x}$: finantial data of a bank customer; $y$: customer rating.\n",
        "\n",
        "> If $y$ is a real value, it is called a *regression* problem.\n",
        "\n",
        "> If $y$ is binary/categorical, it is called a *classification* problem. \n",
        "\n",
        "Let's suppose that our model is a one-dimensional linear model $M(\\mathbf{x},\\mathbf{w}) = w \\cdot x $. \n",
        "\n",
        "### Batch gradient descend\n",
        "\n",
        "We can implement **gradient descend** in the following way (*batch gradient descend*):"
      ]
    },
    {
      "cell_type": "code",
      "metadata": {
        "id": "3FotL8puIgA6",
        "colab_type": "code",
        "colab": {}
      },
      "source": [
        "import numpy as np\n",
        "import random\n",
        "\n",
        "# f = 2x\n",
        "x = np.arange(10)\n",
        "y = np.array([2*i for i in x])\n",
        "\n",
        "# f_target = 1/n Sum (y - wx)**2\n",
        "def target_f(x,y,w):\n",
        "    return np.sum((y - x * w)**2.0) / x.size\n",
        "\n",
        "# gradient_f = 2/n Sum 2wx**2 - 2xy\n",
        "def gradient_f(x,y,w):\n",
        "    return 2 * np.sum(2*w*(x**2) - 2*x*y) / x.size\n",
        "\n",
        "def step(w,grad,alpha):\n",
        "    return w - alpha * grad\n",
        "\n",
        "def BGD_multi_step(target_f, \n",
        "                   gradient_f, \n",
        "                   x, \n",
        "                   y, \n",
        "                   toler = 1e-6):\n",
        "    '''\n",
        "    Batch gradient descend by using a multi-step approach\n",
        "    '''\n",
        "    alphas = [100, 10, 1, 0.1, 0.001, 0.00001]\n",
        "    w = random.random()\n",
        "    val = target_f(x,y,w)\n",
        "    i = 0\n",
        "    while True:\n",
        "        i += 1\n",
        "        gradient = gradient_f(x,y,w)\n",
        "        next_ws = [step(w, gradient, alpha) for alpha in alphas]\n",
        "        next_vals = [target_f(x,y,w) for w in next_ws]\n",
        "        min_val = min(next_vals)\n",
        "        next_w = next_ws[next_vals.index(min_val)]   \n",
        "        next_val = target_f(x,y,next_w)    \n",
        "        if (abs(val - next_val) < toler):\n",
        "            return w\n",
        "        else:\n",
        "            w, val = next_w, next_val"
      ],
      "execution_count": null,
      "outputs": []
    },
    {
      "cell_type": "code",
      "metadata": {
        "id": "K5sm2HTBIgA9",
        "colab_type": "code",
        "colab": {}
      },
      "source": [
        "print('{:.6f}'.format(BGD_multi_step(target_f, gradient_f, x, y)))"
      ],
      "execution_count": null,
      "outputs": []
    },
    {
      "cell_type": "code",
      "metadata": {
        "id": "_b5LXjVwIgBA",
        "colab_type": "code",
        "colab": {}
      },
      "source": [
        "%%timeit\n",
        "BGD_multi_step(target_f, gradient_f, x, y)"
      ],
      "execution_count": null,
      "outputs": []
    },
    {
      "cell_type": "code",
      "metadata": {
        "id": "XHkG7FYsIgBE",
        "colab_type": "code",
        "colab": {}
      },
      "source": [
        "def BGD(target_f, \n",
        "        gradient_f, \n",
        "        x, \n",
        "        y, \n",
        "        toler = 1e-6, \n",
        "        alpha=0.01):\n",
        "    '''\n",
        "    Batch gradient descend by using a given step\n",
        "    '''\n",
        "    w = random.random()\n",
        "    val = target_f(x,y,w)\n",
        "    i = 0\n",
        "    while True:\n",
        "        i += 1\n",
        "        gradient = gradient_f(x,y,w)\n",
        "        next_w = step(w, gradient, alpha)\n",
        "        next_val = target_f(x,y,next_w)    \n",
        "        if (abs(val - next_val) < toler):\n",
        "            return w\n",
        "        else:\n",
        "            w, val = next_w, next_val"
      ],
      "execution_count": null,
      "outputs": []
    },
    {
      "cell_type": "code",
      "metadata": {
        "id": "PHGUvfYQIgBG",
        "colab_type": "code",
        "colab": {}
      },
      "source": [
        "print('{:.6f}'.format(BGD(target_f, gradient_f, x, y)))"
      ],
      "execution_count": null,
      "outputs": []
    },
    {
      "cell_type": "code",
      "metadata": {
        "id": "sUlulJROIgBI",
        "colab_type": "code",
        "colab": {}
      },
      "source": [
        "%%timeit\n",
        "BGD(target_f, gradient_f, x, y)"
      ],
      "execution_count": null,
      "outputs": []
    },
    {
      "cell_type": "markdown",
      "metadata": {
        "id": "_k0eRu0YIgBL",
        "colab_type": "text"
      },
      "source": [
        "### Stochastic Gradient Descend\n",
        "\n",
        "The last function evals the whole dataset $(\\mathbf{x}_i,y_i)$ at every step. \n",
        "\n",
        "If the dataset is large, this strategy is too costly. In this case we will use a strategy called **SGD** (*Stochastic Gradient Descend*).\n",
        "\n",
        "When learning from data, the cost function is additive: it is computed by adding sample reconstruction errors. \n",
        "\n",
        "Then, we can compute the estimate the gradient (and move towards the minimum) by using only **one data sample** (or a small data sample).\n",
        "\n",
        "Thus, we will find the minimum by iterating this gradient estimation over the dataset.\n",
        "\n",
        "A full iteration over the dataset is called **epoch**. During an epoch, data must be used in a random order.\n",
        "\n",
        "If we apply this method we have some theoretical guarantees to find a good minimum:\n",
        "+ SGD essentially uses the inaccurate gradient per iteration. Since there is no free food, what is the cost by using approximate gradient? The answer is that the convergence rate is slower than the gradient descent algorithm.\n",
        "+ The convergence of SGD has been analyzed using the theories of convex minimization and of stochastic approximation: it converges almost surely to a global minimum when the objective function is convex or pseudoconvex, and otherwise converges almost surely to a local minimum."
      ]
    },
    {
      "cell_type": "code",
      "metadata": {
        "id": "CaGt-MziIgBO",
        "colab_type": "code",
        "colab": {}
      },
      "source": [
        "import numpy as np\n",
        "x = np.arange(10)\n",
        "y = np.array([2*i for i in x])\n",
        "data = list(zip(x,y))\n",
        "\n",
        "for (x_i,y_i) in data:\n",
        "    print('{:3d} {:3d}'.format(x_i,y_i))\n",
        "print(\"\")\n",
        "\n",
        "def in_random_order(data):\n",
        "    '''\n",
        "    Random data generator\n",
        "    '''\n",
        "    import random\n",
        "    indexes = [i for i,_ in enumerate(data)]\n",
        "    random.shuffle(indexes)\n",
        "    for i in indexes:\n",
        "        yield data[i]\n",
        "        \n",
        "for (x_i,y_i) in list(in_random_order(data)):\n",
        "    print('{:3d} {:3d}'.format(x_i,y_i))"
      ],
      "execution_count": null,
      "outputs": []
    },
    {
      "cell_type": "code",
      "metadata": {
        "id": "bC2gjQsWIgBQ",
        "colab_type": "code",
        "colab": {}
      },
      "source": [
        "import numpy as np\n",
        "import random\n",
        "\n",
        "def SGD(target_f, \n",
        "        gradient_f, \n",
        "        x, \n",
        "        y, \n",
        "        toler = 1e-6, \n",
        "        epochs=100, \n",
        "        alpha_0=0.01):\n",
        "    '''\n",
        "    Stochastic gradient descend with automatic step adaptation (by\n",
        "    reducing the step to its 95% when there are iterations with no increase)\n",
        "    '''\n",
        "    data = list(zip(x,y))\n",
        "    w = random.random()\n",
        "    alpha = alpha_0\n",
        "    min_w, min_val = float('inf'), float('inf')\n",
        "    epoch = 0\n",
        "    iteration_no_increase = 0\n",
        "    while epoch < epochs and iteration_no_increase < 100:\n",
        "        val = target_f(x, y, w)\n",
        "        if min_val - val > toler:\n",
        "            min_w, min_val = w, val\n",
        "            alpha = alpha_0\n",
        "            iteration_no_increase = 0\n",
        "        else:\n",
        "            iteration_no_increase += 1\n",
        "            alpha *= 0.95\n",
        "        for x_i, y_i in list(in_random_order(data)):\n",
        "            gradient_i = gradient_f(x_i, y_i, w)\n",
        "            w = w - (alpha *  gradient_i)\n",
        "        epoch += 1\n",
        "    return min_w"
      ],
      "execution_count": null,
      "outputs": []
    },
    {
      "cell_type": "code",
      "metadata": {
        "id": "ZYgGfjrgIgBS",
        "colab_type": "code",
        "colab": {}
      },
      "source": [
        "print('w: {:.6f}'.format(SGD(target_f, gradient_f, x, y)))"
      ],
      "execution_count": null,
      "outputs": []
    },
    {
      "cell_type": "markdown",
      "metadata": {
        "id": "ibQJU8L3IgBW",
        "colab_type": "text"
      },
      "source": [
        "## Exercise: Stochastic Gradient Descent and Linear Regression\n",
        "\n",
        "The linear regression model assumes a linear relationship between data:\n",
        "\n",
        "$$ y_i = w_1 x_i + w_0 $$\n",
        "\n",
        "Let's generate a more realistic dataset (with noise), where $w_1 = 2$ and $w_0 = 0$."
      ]
    },
    {
      "cell_type": "code",
      "metadata": {
        "id": "9Ar_ElUyIgBX",
        "colab_type": "code",
        "colab": {}
      },
      "source": [
        "%reset\n",
        "import warnings\n",
        "warnings.filterwarnings('ignore')\n",
        "\n",
        "import numpy as np\n",
        "import seaborn as sns\n",
        "import matplotlib.pyplot as plt\n",
        "from sklearn.datasets.samples_generator import make_regression \n",
        "from scipy import stats \n",
        "import random\n",
        "\n",
        "%matplotlib inline"
      ],
      "execution_count": null,
      "outputs": []
    },
    {
      "cell_type": "code",
      "metadata": {
        "id": "lmJ9vPATIgBa",
        "colab_type": "code",
        "colab": {}
      },
      "source": [
        "# x: input data\n",
        "# y: noisy output data\n",
        "\n",
        "x = np.random.uniform(0,1,20)\n",
        "\n",
        "# f = 2x + 0\n",
        "def f(x): return 2*x + 0\n",
        "\n",
        "noise_variance =0.1\n",
        "noise = np.random.randn(x.shape[0])*noise_variance\n",
        "y = f(x) + noise\n",
        "\n",
        "fig, ax = plt.subplots(1, 1)\n",
        "fig.set_facecolor('#EAEAF2')\n",
        "plt.xlabel('$x$', fontsize=15)\n",
        "plt.ylabel('$f(x)$', fontsize=15)\n",
        "plt.plot(x, y, 'o', label='y')\n",
        "plt.plot([0, 1], [f(0), f(1)], 'b-', label='f(x)')\n",
        "plt.ylim([0,2])\n",
        "plt.gcf().set_size_inches((10,3))\n",
        "plt.grid(True)\n",
        "plt.show"
      ],
      "execution_count": null,
      "outputs": []
    },
    {
      "cell_type": "markdown",
      "metadata": {
        "id": "nXqp3C6FIgBf",
        "colab_type": "text"
      },
      "source": [
        "Complete the following code in order to:\n",
        "+ Compute the value of $w$ by using a estimator based on minimizing the squared error.\n",
        "+ Get from SGD function a vector, `target_value`, representing the value of the target function at each iteration.\n"
      ]
    },
    {
      "cell_type": "code",
      "metadata": {
        "id": "Ctfo30pKIgBg",
        "colab_type": "code",
        "colab": {}
      },
      "source": [
        "# Write your target function as f_target 1/n Sum (y - wx)**2\n",
        "def target_f(x,y,w):\n",
        "    # your code here\n",
        "    pass\n",
        "  \n",
        "# Write your gradient function\n",
        "def gradient_f(x,y,w):\n",
        "    # your code here\n",
        "    pass\n",
        "\n",
        "def in_random_order(data):\n",
        "    '''\n",
        "    Random data generator\n",
        "    '''\n",
        "    import random\n",
        "    indexes = [i for i,_ in enumerate(data)]\n",
        "    random.shuffle(indexes)\n",
        "    for i in indexes:\n",
        "        yield data[i]\n",
        "\n",
        "# Modify the SGD function to return a 'target_value' vector\n",
        "def SGD(target_f, \n",
        "        gradient_f, \n",
        "        x, \n",
        "        y, \n",
        "        toler = 1e-6, \n",
        "        epochs=100, \n",
        "        alpha_0=0.01):\n",
        "    \n",
        "    # Insert your code among the following lines\n",
        "    \n",
        "    data = zip(x,y)\n",
        "    w = random.random()\n",
        "    alpha = alpha_0\n",
        "    min_w, min_val = float('inf'), float('inf')\n",
        "    iteration_no_increase = 0\n",
        "    epoch = 0\n",
        "    while epoch < epochs and iteration_no_increase < 100:\n",
        "        val = target_f(x, y, w)\n",
        "        if min_val - val > toler:\n",
        "            min_w, min_val = w, val\n",
        "            alpha = alpha_0\n",
        "            iteration_no_increase = 0\n",
        "        else:\n",
        "            iteration_no_increase += 1\n",
        "            alpha *= 0.95\n",
        "        for x_i, y_i in in_random_order(data):\n",
        "            gradient_i = gradient_f(x_i, y_i, w)\n",
        "            w = w - (alpha *  gradient_i)\n",
        "        epoch += 1\n",
        "    return min_w"
      ],
      "execution_count": null,
      "outputs": []
    },
    {
      "cell_type": "code",
      "metadata": {
        "id": "f8mKLVp2IgBj",
        "colab_type": "code",
        "colab": {}
      },
      "source": [
        "# Print the value of the solution\n",
        "\n",
        "w, target_value = SGD(target_f, gradient_f, x, y)\n",
        "print('w: {:.6f}'.format(w))"
      ],
      "execution_count": null,
      "outputs": []
    },
    {
      "cell_type": "code",
      "metadata": {
        "id": "7OWmxn-ZIgBl",
        "colab_type": "code",
        "colab": {}
      },
      "source": [
        "# Visualize the solution regression line\n",
        "\n",
        "fig, ax = plt.subplots(1, 1)\n",
        "fig.set_facecolor('#EAEAF2')\n",
        "plt.plot(x, y, 'o', label='t')\n",
        "plt.plot([0, 1], [f(0), f(1)], 'b-', label='f(x)', alpha=0.5)\n",
        "plt.plot([0, 1], [0*w, 1*w], 'r-', label='fitted line', alpha=0.5, linestyle='--')\n",
        "plt.xlabel('input x')\n",
        "plt.ylabel('target t')\n",
        "plt.title('input vs. target')\n",
        "plt.ylim([0,2])\n",
        "plt.gcf().set_size_inches((10,3))\n",
        "plt.grid(True)\n",
        "plt.show"
      ],
      "execution_count": null,
      "outputs": []
    },
    {
      "cell_type": "code",
      "metadata": {
        "scrolled": true,
        "id": "lwSFTf_PIgBp",
        "colab_type": "code",
        "colab": {}
      },
      "source": [
        "# Visualize the evolution of the target function value during iterations.\n",
        "\n",
        "fig, ax = plt.subplots(1, 1)\n",
        "fig.set_facecolor('#EAEAF2')\n",
        "plt.plot(np.arange(target_value.size), target_value, 'o', alpha = 0.2)\n",
        "plt.xlabel('Iteration')\n",
        "plt.ylabel('Cost')\n",
        "plt.grid()\n",
        "plt.gcf().set_size_inches((10,3))\n",
        "plt.grid(True)\n",
        "plt.show()"
      ],
      "execution_count": null,
      "outputs": []
    },
    {
      "cell_type": "markdown",
      "metadata": {
        "id": "yQ8noU6NIgBs",
        "colab_type": "text"
      },
      "source": [
        "## Mini-batch Gradient Descent"
      ]
    },
    {
      "cell_type": "markdown",
      "metadata": {
        "id": "xFqg_w1jIgBu",
        "colab_type": "text"
      },
      "source": [
        "In code, general batch gradient descent looks something like this:\n",
        "\n",
        "```python\n",
        "nb_epochs = 100\n",
        "for i in range(nb_epochs):\n",
        "    grad = evaluate_gradient(target_f, data, w)\n",
        "    w = w - learning_rate * grad\n",
        "```\n",
        "\n",
        "For a pre-defined number of epochs, we first compute the gradient vector of the target function for the whole dataset w.r.t. our parameter vector. \n",
        "\n",
        "**Stochastic gradient descent** (SGD) in contrast performs a parameter update for each training example and label:\n",
        "\n",
        "```python\n",
        "nb_epochs = 100\n",
        "for i in range(nb_epochs):\n",
        "    np.random.shuffle(data)\n",
        "    for sample in data:\n",
        "        grad = evaluate_gradient(target_f, sample, w)\n",
        "        w = w - learning_rate * grad\n",
        "```\n",
        "\n",
        "Mini-batch gradient descent finally takes the best of both worlds and performs an update for every mini-batch of $n$ training examples:\n",
        "\n",
        "```python\n",
        "nb_epochs = 100\n",
        "for i in range(nb_epochs):\n",
        "  np.random.shuffle(data)\n",
        "  for batch in get_batches(data, batch_size=50):\n",
        "    grad = evaluate_gradient(target_f, batch, w)\n",
        "    w = w - learning_rate * grad\n",
        "```\n",
        "\n",
        "Minibatch SGD has the advantage that it works with a slightly less noisy estimate of the gradient. However, as the minibatch size increases, the number of updates done per computation done decreases (eventually it becomes very inefficient, like batch gradient descent). \n",
        "\n",
        "There is an optimal trade-off (in terms of computational efficiency) that may vary depending on the data distribution and the particulars of the class of function considered, as well as how computations are implemented."
      ]
    },
    {
      "cell_type": "markdown",
      "metadata": {
        "id": "QdAEXJcEIgBv",
        "colab_type": "text"
      },
      "source": [
        "## Loss Funtions\n",
        "\n",
        "Loss functions $L(y, f(\\mathbf{x})) = \\frac{1}{n} \\sum_i \\ell(y_i, f(\\mathbf{x_i}))$ represent the price paid for inaccuracy of predictions in classification/regression problems.\n",
        "\n",
        "In classification this function is often the **zero-one loss**, that is, $ \\ell(y_i, f(\\mathbf{x_i}))$ is zero when $y_i = f(\\mathbf{x}_i)$ and one otherwise.\n",
        "\n",
        "This function is discontinuous with flat regions and is thus extremely hard to optimize using gradient-based methods. For this reason it is usual to consider a proxy to the loss called a *surrogate loss function*. For computational reasons this is usually convex function. Here we have some examples:\n",
        "\n",
        "### Square / Euclidean Loss\n",
        "\n",
        "In regression problems, the most common loss function is the square loss function:\n",
        "\n",
        "$$ L(y, f(\\mathbf{x})) = \\frac{1}{n} \\sum_i (y_i - f(\\mathbf{x}_i))^2  $$\n",
        "\n",
        "The square loss function can be re-written and utilized for classification:\n",
        "\n",
        "$$ L(y, f(\\mathbf{x})) = \\frac{1}{n} \\sum_i (1 - y_i f(\\mathbf{x}_i))^2  $$\n",
        "\n",
        "\n",
        "### Hinge / Margin Loss (i.e. Suport Vector Machines)\n",
        "\n",
        "The hinge loss function is defined as:\n",
        "\n",
        "$$ L(y, f(\\mathbf{x})) = \\frac{1}{n} \\sum_i \\mbox{max}(0, 1 - y_i f(\\mathbf{x}_i))  $$\n",
        "\n",
        "The hinge loss provides a relatively tight, convex upper bound on the 0–1 Loss.\n",
        "\n",
        "\n",
        "<img src=\"https://github.com/DataScienceUB/DeepLearningMaster2019/blob/master/images/loss_functions.png?raw=1\">\n"
      ]
    },
    {
      "cell_type": "markdown",
      "metadata": {
        "id": "Q5TbAOhIIgBw",
        "colab_type": "text"
      },
      "source": [
        "### Logistic Loss (Logistic Regression)\n",
        "\n",
        "This function displays a similar convergence rate to the hinge loss function, and since it is continuous, simple gradient descent methods can be utilized. \n",
        "\n",
        "$$ L(y, f(\\mathbf{x})) = \\frac{1}{n} log(1 + exp(-y_i f(\\mathbf{x}_i))) $$\n",
        "\n",
        "\n",
        "### Sigmoid Cross-Entropy Loss (Softmax classifier)\n",
        "\n",
        "Cross-Entropy is a loss function that is very used for training **multiclass problems**. We'll focus on models that assume that classes are mutually exclusive. \n",
        "\n",
        "In this case, our labels have this form $\\mathbf{y}_i =(1.0,0.0,0.0)$. If our model predicts a different distribution, say  $ f(\\mathbf{x}_i)=(0.4,0.1,0.5)$, then we'd like to nudge the parameters so that $f(\\mathbf{x}_i)$ gets closer to $\\mathbf{y}_i$.\n",
        "\n",
        "C.Shannon showed that if you want to send a series of messages composed of symbols from an alphabet with distribution $y$ ($y_j$  is the probability of the  $j$-th symbol), then to use the smallest number of bits on average, you should assign  $\\log(\\frac{1}{y_j})$  bits to the  $j$-th symbol. \n",
        "\n",
        "The optimal number of bits is known as **entropy**:\n",
        "\n",
        "$$ H(\\mathbf{y}) = \\sum_j y_j \\log\\frac{1}{y_j} = - \\sum_j y_j \\log y_j$$\n",
        "\n",
        "**Cross entropy** is the number of bits we'll need if we encode symbols by using a wrong distribution $\\hat y$:\n",
        "\n",
        "$$ H(y, \\hat y) =   - \\sum_j y_j \\log \\hat y_j $$ \n",
        "\n",
        "In our case, the real distribution is $\\mathbf{y}$ and the \"wrong\" one is $f(\\mathbf{x}_i)$. So, minimizing **cross entropy** with respect our model parameters will result in the model that best approximates our labels if considered as a probabilistic distribution. \n",
        "\n",
        "Cross entropy is used in combination with **Softmax** classifier. In order to classify $\\mathbf{x}_i$ we could take the index corresponding to the max value of $f(\\mathbf{x}_i)$, but Softmax gives a slightly more intuitive output (normalized class probabilities) and also has a probabilistic interpretation:\n",
        "\n",
        "$$ P(\\mathbf{y}_i = j \\mid \\mathbf{x_i}) = - log \\left( \\frac{e^{f_j(\\mathbf{x_i})}}{\\sum_k e^{f_k(\\mathbf{x_i})} } \\right) $$\n",
        "\n",
        "where $f_k$ is a linear classifier. \n"
      ]
    },
    {
      "cell_type": "markdown",
      "metadata": {
        "id": "QRbnJe1aIgBw",
        "colab_type": "text"
      },
      "source": [
        "## Advanced gradient descend\n",
        "\n",
        "\n",
        "### Momentum\n",
        "\n",
        "SGD has trouble navigating ravines, i.e. areas where the surface curves much more steeply in one dimension than in another, which are common around local optima. In these scenarios, SGD oscillates across the slopes of the ravine while only making hesitant progress along the bottom towards the local optimum.\n",
        "\n",
        "<img src=\"https://github.com/DataScienceUB/DeepLearningMaster2019/blob/master/images/ridge2.png?raw=1\">\n",
        "\n",
        "Momentum is a method that helps accelerate SGD in the relevant direction and dampens oscillations. It does this by adding a fraction of the update vector of the past time step to the current update vector:\n",
        "\n",
        "$$ v_t = m v_{t-1} + \\alpha \\nabla_w f $$\n",
        "$$ w = w - v_t    $$\n",
        "\n",
        "The momentum $m$ is commonly set to $0.9$.\n",
        "\n",
        "### Nesterov\n",
        "\n",
        "However, a ball that rolls down a hill, blindly following the slope, is highly unsatisfactory. We'd like to have a smarter ball, a ball that has a notion of where it is going so that it knows to slow down before the hill slopes up again.\n",
        "\n",
        "Nesterov accelerated gradient (NAG) is a way to give our momentum term this kind of prescience. We know that we will use our momentum term $m v_{t-1}$ to move the parameters $w$. Computing \n",
        "$w - m v_{t-1}$ thus gives us an approximation of the next position of the parameters (the gradient is missing for the full update), a rough idea where our parameters are going to be. We can now effectively look ahead by calculating the gradient not w.r.t. to our current parameters $w$ but w.r.t. the approximate future position of our parameters:\n",
        "\n",
        "$$ w_{new} = w - m v_{t-1} $$\n",
        "$$ v_t = m v_{t-1} + \\alpha \\nabla_{w_{new}} f $$\n",
        "$$ w = w - v_t $$\n",
        "\n",
        "### Adagrad\n",
        "\n",
        "All previous approaches manipulated the learning rate globally and equally for all parameters. Tuning the learning rates is an expensive process, so much work has gone into devising methods that can adaptively tune the learning rates, and even do so per parameter. \n",
        "\n",
        "Adagrad is an algorithm for gradient-based optimization that does just this: It adapts the learning rate to the parameters, performing larger updates for infrequent and smaller updates for frequent parameters.\n",
        "\n",
        "$$ c = c + (\\nabla_w f)^2 $$\n",
        "$$ w = w - \\frac{\\alpha}{\\sqrt{c}} $$ \n",
        "\n",
        "\n",
        "### RMProp\n",
        "\n",
        "RMSProp update adjusts the Adagrad method in a very simple way in an attempt to reduce its aggressive, monotonically decreasing learning rate. In particular, it uses a moving average of squared gradients instead, giving:\n",
        "\n",
        "$$ c = \\beta c + (1 - \\beta)(\\nabla_w f)^2 $$\n",
        "$$ w = w - \\frac{\\alpha}{\\sqrt{c}} $$ \n",
        "\n",
        "where $\\beta$ is a decay rate that controls the size of the moving average.\n",
        "\n",
        "\n",
        "<img src=\"https://github.com/DataScienceUB/DeepLearningMaster2019/blob/master/images/g1.gif?raw=1\">\n",
        "\n",
        "(Image credit: Alec Radford) \n",
        "\n",
        "<img src=\"https://github.com/DataScienceUB/DeepLearningMaster2019/blob/master/images/g2.gif?raw=1\">\n",
        "\n",
        "(Image credit: Alec Radford) \n"
      ]
    },
    {
      "cell_type": "code",
      "metadata": {
        "id": "MHA6FD6uIgBx",
        "colab_type": "code",
        "colab": {}
      },
      "source": [
        "%reset\n",
        "\n",
        "import warnings\n",
        "warnings.filterwarnings('ignore')\n",
        "\n",
        "import numpy as np\n",
        "import seaborn as sns\n",
        "import matplotlib.pyplot as plt\n",
        "from sklearn.datasets.samples_generator import make_regression \n",
        "from scipy import stats \n",
        "import random\n",
        "\n",
        "%matplotlib inline"
      ],
      "execution_count": null,
      "outputs": []
    },
    {
      "cell_type": "code",
      "metadata": {
        "id": "Tr9t1QGxIgBz",
        "colab_type": "code",
        "colab": {}
      },
      "source": [
        "# the function that I'm going to plot\n",
        "def f(x,y):\n",
        "    return x**2 + 5*y**2\n",
        "\n",
        "x = np.arange(-3.0,3.0,0.1)\n",
        "y = np.arange(-3.0,3.0,0.1)\n",
        "X,Y = np.meshgrid(x, y, indexing='ij') # grid of point\n",
        "Z = f(X, Y) # evaluation of the function on the grid\n",
        "\n",
        "plt.pcolor(X, Y, Z, cmap=plt.cm.gist_earth)\n",
        "plt.axis([x.min(), x.max(), y.min(), y.max()])\n",
        "plt.gca().set_aspect('equal', adjustable='box')\n",
        "plt.gcf().set_size_inches((6,6))\n",
        "plt.show()"
      ],
      "execution_count": null,
      "outputs": []
    },
    {
      "cell_type": "code",
      "metadata": {
        "id": "BHl9t64eIgB2",
        "colab_type": "code",
        "colab": {}
      },
      "source": [
        "def target_f(x):\n",
        "    return x[0]**2.0 + 5*x[1]**2.0\n",
        "\n",
        "def part_f(x, \n",
        "           f, \n",
        "           i, \n",
        "           h=1e-6):\n",
        "    w1 = [x_j + (h if j==i else 0) for j, x_j in enumerate(x)]\n",
        "    w2 = [x_j - (h if j==i else 0) for j, x_j in enumerate(x)]\n",
        "    return (f(w1) - f(w2))/(2*h)\n",
        "\n",
        "def gradient_f(x, \n",
        "               f, \n",
        "               h=1e-6):\n",
        "    return np.array([round(part_f(x,f,i,h), 10) for i,_ in enumerate(x)])"
      ],
      "execution_count": null,
      "outputs": []
    },
    {
      "cell_type": "code",
      "metadata": {
        "id": "ATGfFhiuIgB_",
        "colab_type": "code",
        "colab": {}
      },
      "source": [
        "def SGD(target_f, \n",
        "        gradient_f, \n",
        "        x, \n",
        "        alpha_0=0.01,\n",
        "        toler = 0.000001):\n",
        "    alpha = alpha_0\n",
        "    min_val = float('inf')\n",
        "    steps = 0\n",
        "    iteration_no_increase = 0\n",
        "    trace = []\n",
        "    while iteration_no_increase < 100:\n",
        "        val = target_f(x)\n",
        "        if min_val - val > toler:\n",
        "            min_val = val\n",
        "            alpha = alpha_0\n",
        "            iteration_no_increase = 0\n",
        "        else:\n",
        "            alpha *= 0.95\n",
        "            iteration_no_increase += 1\n",
        "        trace.append(x)\n",
        "        gradient_i = gradient_f(x, target_f)\n",
        "        x = x - (alpha *  gradient_i)\n",
        "        steps += 1\n",
        "    return x, val, steps, trace\n",
        "\n",
        "x = np.array([2,-2])\n",
        "x, val, steps, trace = SGD(target_f, gradient_f, x)\n",
        "print(x)\n",
        "print('Val: {:.6f}, steps: {:.0f}'.format(val, steps))"
      ],
      "execution_count": null,
      "outputs": []
    },
    {
      "cell_type": "code",
      "metadata": {
        "id": "HzGDYkuYIgCC",
        "colab_type": "code",
        "colab": {}
      },
      "source": [
        "def SGD_M(target_f, \n",
        "        gradient_f, \n",
        "        x, \n",
        "        alpha_0=0.01,\n",
        "        toler = 0.000001,\n",
        "        m = 0.9):\n",
        "    \n",
        "    alpha = alpha_0\n",
        "    min_val = float('inf')\n",
        "    steps = 0\n",
        "    iteration_no_increase = 0\n",
        "    v = 0.0\n",
        "    trace = []\n",
        "    while iteration_no_increase < 100:\n",
        "        val = target_f(x)\n",
        "        if min_val - val > toler:\n",
        "            min_val = val\n",
        "            alpha = alpha_0\n",
        "            iteration_no_increase = 0\n",
        "        else:\n",
        "            alpha *= 0.95\n",
        "            iteration_no_increase += 1\n",
        "        trace.append(x)\n",
        "        gradient_i = gradient_f(x, target_f)\n",
        "        v = m * v + (alpha *  gradient_i)\n",
        "        x = x - v\n",
        "        steps += 1\n",
        "    return x, val, steps, trace\n",
        "\n",
        "x = np.array([2,-2])\n",
        "x, val, steps, trace2 = SGD_M(target_f, gradient_f, x)\n",
        "\n",
        "print('\\n',x)\n",
        "print('Val: {:.6f}, steps: {:.0f}'.format(val, steps))"
      ],
      "execution_count": null,
      "outputs": []
    },
    {
      "cell_type": "code",
      "metadata": {
        "id": "n0BDW7CqIgCH",
        "colab_type": "code",
        "colab": {}
      },
      "source": [
        "x2 = np.array(range(len(trace)))\n",
        "x3 = np.array(range(len(trace2)))\n",
        "plt.xlim([0,len(trace)])\n",
        "plt.gcf().set_size_inches((10,3))\n",
        "plt.plot(x3, trace2)\n",
        "plt.plot(x2, trace, '-')"
      ],
      "execution_count": null,
      "outputs": []
    },
    {
      "cell_type": "markdown",
      "metadata": {
        "id": "amZwnEjaBcOD",
        "colab_type": "text"
      },
      "source": [
        "http://www.deeplearning.ai/ai-notes/initialization/"
      ]
    }
  ]
}